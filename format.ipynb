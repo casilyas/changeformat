{
 "cells": [
  {
   "cell_type": "code",
   "execution_count": 1,
   "id": "4fb6071b-ed99-4bf6-82b3-6fe9cb5c468d",
   "metadata": {},
   "outputs": [
    {
     "name": "stdout",
     "output_type": "stream",
     "text": [
      "[{'business': 3900, 'from': 'SAW', 'price': 300, 'to': 'GYD'}, {'business': 4500, 'from': 'IST', 'price': 330, 'to': 'GYD'}, {'business': 6500, 'from': 'GYD', 'price': 1200, 'to': 'LHT'}, {'business': 5000, 'from': 'LHT', 'price': 1000, 'to': 'IST'}, {'business': 6000, 'from': 'GYD', 'price': 1250, 'to': 'MON'}]\n"
     ]
    }
   ],
   "source": [
    "import json\n",
    "import yaml\n",
    "#flight_prices = json.load(open('flights.json', 'r')) # r = reading\n",
    "#print(\"flight_prices\", flight_prices)\n",
    "json_file_path = \"flights.json\"\n",
    "\n",
    "with open(json_file_path, 'r') as j:\n",
    "     contents = json.loads(j.read())\n",
    "output_data = yaml.dump(contents)\n",
    "with open('output.yaml', 'w') as file:\n",
    "    data1 = yaml.safe_load(output_data)\n",
    "list2=[]    \n",
    "if isinstance(data1, list):\n",
    "    # Use the data as a list\n",
    "    for item in data1:\n",
    "        list2.append(item)\n",
    "    print(list2)\n",
    "else:\n",
    "    print(\"The YAML file does not contain a list.\")  "
   ]
  },
  {
   "cell_type": "code",
   "execution_count": 2,
   "id": "b2db4d6e-56f1-43b7-a70f-10499c7b2bf6",
   "metadata": {},
   "outputs": [],
   "source": [
    "Airbus_A330=95\n",
    "class Flight: # UCUS \n",
    "    haradan = None\n",
    "    haraya = None\n",
    "    nezaman = None\n",
    "    havayolu = None\n",
    "    kapasite = Airbus_A330\n",
    "    \n",
    "    def ucretHesapla( self ) -> int:\n",
    "        # {\"from\":\"SAW\", \"to\":\"GYD\", \"price\": 300, \"business\": 3900},\n",
    "        for flight in list2:\n",
    "            if flight['from'] == self.haradan and flight['to'] == self.haraya:\n",
    "                return flight['price']\n",
    "        # HIC BIR TANESINE ESLEMESI\n",
    "        # BOYLE BIR UCUS YOK!\n",
    "        return 0 # bu ucus ile alakali bilgi yok?\n",
    "        #return None\n",
    "        # pulsuz\n",
    "    def koltukVarMi( self ) -> bool:\n",
    "            return self.kapasite > 0\n",
    "            \"\"\"      \n",
    "            if self.kapasite > 0:\n",
    "                return True\n",
    "            else:\n",
    "                return False\n",
    "            \"\"\"\n",
    "    def biletAl( self ) -> bool:\n",
    "            if self.kapasite == 0: return False # BILET ALAMIYORUZ!!!! BILET KALMAMIS\n",
    "            self.kapasite = self.kapasite - 1 # SATILDI\n",
    "            return True # BILET VAR, \n",
    "    def biletIptal( self ) -> bool:\n",
    "            if self.kapasite == Airbus_A330: return False # ALINMAMIS BILET IPTALI, ABSURD, SACMA\n",
    "            self.kapasite = self.kapasite + 1 # IPTAL EDILDIGI ICIN, YER ACILDI, KAPASITE ARTTI\n",
    "            return True   \n",
    "            "
   ]
  },
  {
   "cell_type": "code",
   "execution_count": 3,
   "id": "c7cc5458-9344-4d41-a720-c13106dae2de",
   "metadata": {},
   "outputs": [
    {
     "name": "stdout",
     "output_type": "stream",
     "text": [
      "300\n",
      "True\n",
      "True\n",
      "True\n"
     ]
    }
   ],
   "source": [
    "flying= Flight()\n",
    "flying.nezaman = (19, 45)\n",
    "flying.haradan = 'SAW' # sabiha gokcen, istanbul\n",
    "flying.haraya = 'GYD' # heyder aliyev, baku\n",
    "flying.havayolu = 'Azerbaijan Havayollari'\n",
    "print(flying.ucretHesapla())\n",
    "print(flying.koltukVarMi())\n",
    "print(flying.biletAl())\n",
    "print(flying.biletIptal())"
   ]
  },
  {
   "cell_type": "code",
   "execution_count": null,
   "id": "4833b6c7-0ae1-400f-87da-edfd3cadcf5a",
   "metadata": {},
   "outputs": [],
   "source": []
  }
 ],
 "metadata": {
  "kernelspec": {
   "display_name": "Python 3 (ipykernel)",
   "language": "python",
   "name": "python3"
  },
  "language_info": {
   "codemirror_mode": {
    "name": "ipython",
    "version": 3
   },
   "file_extension": ".py",
   "mimetype": "text/x-python",
   "name": "python",
   "nbconvert_exporter": "python",
   "pygments_lexer": "ipython3",
   "version": "3.10.4"
  }
 },
 "nbformat": 4,
 "nbformat_minor": 5
}
